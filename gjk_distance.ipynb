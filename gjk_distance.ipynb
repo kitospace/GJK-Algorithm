{
 "cells": [
  {
   "cell_type": "markdown",
   "metadata": {},
   "source": [
    "MEASURING DISTANCE BETWEEN TWO CONVEX SETS"
   ]
  },
  {
   "cell_type": "code",
   "execution_count": 1,
   "metadata": {},
   "outputs": [],
   "source": [
    "import matplotlib.pyplot as plt\n",
    "import numpy as np"
   ]
  },
  {
   "cell_type": "code",
   "execution_count": 9,
   "metadata": {},
   "outputs": [],
   "source": [
    "def subtract(v1, v2):\n",
    "    return [v1[i] - v2[i] for i in range(len(v1))]\n",
    "\n",
    "def dot(v1, v2):\n",
    "    return sum(v1[i] * v2[i] for i in range(len(v1)))\n",
    "\n",
    "def normalize(v):\n",
    "    magnitude = np.linalg.norm(v)\n",
    "    return [v[i] / magnitude for i in range(len(v))] if magnitude != 0 else [0] * len(v)\n",
    "\n",
    "def support(shape, direction):\n",
    "    return max(shape, key=lambda v: dot(v, direction))"
   ]
  },
  {
   "cell_type": "code",
   "execution_count": 10,
   "metadata": {},
   "outputs": [],
   "source": [
    "\n",
    "\n",
    "def gjk_distance(shape1, shape2):\n",
    "    direction = normalize(subtract(shape2[0], shape1[0]))\n",
    "    simplex = [support(shape1, direction), support(shape2, [-d for d in direction])]\n",
    "    direction = subtract([0] * len(direction), simplex[0])\n",
    "\n",
    "    while True:\n",
    "        new_point = support(shape1, direction)\n",
    "        if dot(new_point, direction) <= 0:\n",
    "            return np.linalg.norm(simplex[0]), simplex[0], simplex[1]\n",
    "\n",
    "        simplex.append(new_point)\n",
    "        if len(simplex) == 3:\n",
    "            if dot(simplex[1], direction) < dot(simplex[0], direction):\n",
    "                simplex.pop(0)\n",
    "            else:\n",
    "                simplex.pop(1)\n",
    "\n",
    "            direction = subtract([0] * len(direction), simplex[0])\n",
    "        else:\n",
    "            break\n",
    "\n",
    "def plot_shapes(shape1, shape2, distance_info):\n",
    "    fig, ax = plt.subplots()\n",
    "    \n",
    "    shape1 = np.array(shape1)\n",
    "    shape2 = np.array(shape2)\n",
    "    \n",
    "    ax.plot(*shape1.T, 'bo-', label='Shape 1')\n",
    "    ax.plot(*shape2.T, 'go-', label='Shape 2')\n",
    "    \n",
    "    distance, p1, p2 = distance_info\n",
    "    ax.plot([p1[0], p2[0]], [p1[1], p2[1]], 'r--', label=f'Distance: {distance:.2f}')\n",
    "    \n",
    "    ax.set_xlabel('X')\n",
    "    ax.set_ylabel('Y')\n",
    "    ax.legend()\n",
    "    ax.grid(True)\n",
    "    ax.set_aspect('equal')\n",
    "    plt.show()\n",
    "\n",
    "def get_shape_input(name):\n",
    "    points = []\n",
    "    num_points = int(input(f\"Enter the number of points in {name}: \"))\n",
    "    for _ in range(num_points):\n",
    "        x, y = map(float, input(f\"Enter the x and y coordinates of a point separated by space: \").split())\n",
    "        points.append([x, y])\n",
    "    points.append(points[0])  # Close the shape by appending the first point at the end\n",
    "    return points\n"
   ]
  },
  {
   "cell_type": "code",
   "execution_count": 11,
   "metadata": {},
   "outputs": [
    {
     "data": {
      "image/png": "[encoded data removed]",
      "text/plain": [
       "<Figure size 640x480 with 1 Axes>"
      ]
     },
     "metadata": {},
     "output_type": "display_data"
    }
   ],
   "source": [
    "def main():\n",
    "    shape1 = get_shape_input(\"Shape 1\")\n",
    "    shape2 = get_shape_input(\"Shape 2\")\n",
    "    \n",
    "    distance_info = gjk_distance(shape1, shape2)\n",
    "    plot_shapes(shape1, shape2, distance_info)\n",
    "\n",
    "if __name__ == \"__main__\":\n",
    "    main()\n",
    "\n"
   ]
  },
  {
   "cell_type": "markdown",
   "metadata": {},
   "source": [
    "---------------------------------END-------------------------------------"
   ]
  }
 ],
 "metadata": {
  "kernelspec": {
   "display_name": "adv_v1",
   "language": "python",
   "name": "python3"
  },
  "language_info": {
   "codemirror_mode": {
    "name": "ipython",
    "version": 3
   },
   "file_extension": ".py",
   "mimetype": "text/x-python",
   "name": "python",
   "nbconvert_exporter": "python",
   "pygments_lexer": "ipython3",
   "version": "3.12.2"
  }
 },
 "nbformat": 4,
 "nbformat_minor": 2
}
