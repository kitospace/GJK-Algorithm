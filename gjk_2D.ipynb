{
 "cells": [
  {
   "cell_type": "markdown",
   "metadata": {},
   "source": [
    "REPRESENTATION OF DIFFERENT CONVEX OBJECTS INTERSECTION - 2D Representation"
   ]
  },
  {
   "cell_type": "code",
   "execution_count": 6,
   "metadata": {},
   "outputs": [],
   "source": [
    "#Importing the necessary libraries\n",
    "import matplotlib.pyplot as plt\n",
    "import numpy as np"
   ]
  },
  {
   "cell_type": "code",
   "execution_count": 15,
   "metadata": {},
   "outputs": [],
   "source": [
    "def subtract(v1, v2):                                      #Function to subtract two vectors\n",
    "    return [v1[0] - v2[0], v1[1] - v2[1]]\n",
    "\n",
    "def dot(v1, v2):                                            #Function to calculate the dot product of two vectors\n",
    "    return v1[0] * v2[0] + v1[1] * v2[1]\n",
    "\n",
    "def normalize(v):                                           #Function to normalize a vector\n",
    "    magnitude = (v[0] ** 2 + v[1] ** 2) ** 0.5\n",
    "    return [v[0] / magnitude, v[1] / magnitude] if magnitude != 0 else [0, 0]\n",
    "\n",
    "def perpendicular(v):                                       #Function to calculate the perpendicular vector of a vector\n",
    "    return [-v[1], v[0]]\n",
    "\n",
    "def get_furthest_point(polygon, direction):                 #Function to get the furthest point of a polygon in a given direction\n",
    "    furthest_point = polygon[0]\n",
    "    max_dot = dot(furthest_point, direction)\n",
    "    for point in polygon[1:]:\n",
    "        current_dot = dot(point, direction)\n",
    "        if current_dot > max_dot:\n",
    "            max_dot = current_dot\n",
    "            furthest_point = point\n",
    "    return furthest_point"
   ]
  },
  {
   "cell_type": "code",
   "execution_count": 16,
   "metadata": {},
   "outputs": [],
   "source": [
    "def get_support_point_polygon(polygon1, polygon2, direction):       #Function to get the support point of a polygon in a given direction\n",
    "    fp1 = get_furthest_point(polygon1, direction)\n",
    "    fp2 = get_furthest_point(polygon2, [-direction[0], -direction[1]])\n",
    "    return subtract(fp1, fp2)\n",
    "\n",
    "def get_support_point_circle(center, radius, direction):            #Function to get the support point of a circle in a given direction\n",
    "    direction = normalize(direction)\n",
    "    return [center[0] + direction[0] * radius, center[1] + direction[1] * radius]\n",
    "\n",
    "def get_support_point(center, radius, polygon, direction):          #Function to get the support point of a circle in a given direction\n",
    "    support_circle = get_support_point_circle(center, radius, direction)\n",
    "    support_polygon = get_furthest_point(polygon, [-direction[0], -direction[1]])\n",
    "    return subtract(support_circle, support_polygon)"
   ]
  },
  {
   "cell_type": "code",
   "execution_count": 17,
   "metadata": {},
   "outputs": [],
   "source": [
    "def handle_simplex(simplex, direction):                             #Function to handle the simplex\n",
    "    if len(simplex) == 2:\n",
    "        B, A = simplex\n",
    "        AB = subtract(B, A)\n",
    "        AO = subtract([0, 0], A)\n",
    "        AB_perpendicular = perpendicular(AB)\n",
    "        direction[:] = AB_perpendicular if dot(AB_perpendicular, AO) > 0 else [-AB_perpendicular[0], -AB_perpendicular[1]]\n",
    "        return False\n",
    "    else:\n",
    "        C, B, A = simplex\n",
    "        AB = subtract(B, A)\n",
    "        AC = subtract(C, A)\n",
    "        AO = subtract([0, 0], A)\n",
    "        AB_perpendicular = perpendicular(AB)\n",
    "        AC_perpendicular = perpendicular(AC)\n",
    "        if dot(AB_perpendicular, AO) < 0:\n",
    "            direction[:] = AB_perpendicular\n",
    "            simplex.pop(0)\n",
    "            return False\n",
    "        elif dot(AC_perpendicular, AO) < 0:\n",
    "            direction[:] = AC_perpendicular\n",
    "            simplex.pop(1)\n",
    "            return False\n",
    "        return True"
   ]
  },
  {
   "cell_type": "code",
   "execution_count": 18,
   "metadata": {},
   "outputs": [],
   "source": [
    "def gjk_intersect_polygon(polygon1, polygon2):                          #Function to check if two polygons intersect\n",
    "    direction = subtract(polygon2[0], polygon1[0])\n",
    "    simplex = [get_support_point_polygon(polygon1, polygon2, direction)]\n",
    "    direction = subtract([0, 0], simplex[0])\n",
    "    max_iterations = 1000\n",
    "    iterations = 0\n",
    "    while iterations < max_iterations:\n",
    "        A = get_support_point_polygon(polygon1, polygon2, direction)\n",
    "        if dot(A, direction) < 0:\n",
    "            return False\n",
    "        simplex.append(A)\n",
    "        if handle_simplex(simplex, direction):\n",
    "            return True\n",
    "        iterations += 1\n",
    "    return False"
   ]
  },
  {
   "cell_type": "code",
   "execution_count": 19,
   "metadata": {},
   "outputs": [],
   "source": [
    "def gjk_intersect_circle(center, radius, polygon):                      #Function to check if a circle and a polygon intersect\n",
    "    direction = subtract(polygon[0], center)\n",
    "    simplex = [get_support_point(center, radius, polygon, direction)]\n",
    "    direction = subtract([0, 0], simplex[0])\n",
    "    max_iterations = 1000\n",
    "    iterations = 0\n",
    "    while iterations < max_iterations:\n",
    "        A = get_support_point(center, radius, polygon, direction)\n",
    "        if dot(A, direction) < 0:\n",
    "            return False\n",
    "        simplex.append(A)\n",
    "        if handle_simplex(simplex, direction):\n",
    "            return True\n",
    "        iterations += 1\n",
    "    return False"
   ]
  },
  {
   "cell_type": "code",
   "execution_count": 20,
   "metadata": {},
   "outputs": [],
   "source": [
    "def plot_polygon(polygon, color='b'):                                   #Function to plot a polygon\n",
    "    polygon = np.array(polygon)\n",
    "    polygon = np.vstack([polygon, polygon[0]])\n",
    "    plt.plot(polygon[:, 0], polygon[:, 1], color + '-')\n",
    "    plt.fill(polygon[:, 0], polygon[:, 1], color, alpha=0.3)\n",
    "\n",
    "def plot_square(square, color='b'):                                     #Function to plot a square\n",
    "    plot_polygon(square, color)\n",
    "\n",
    "def plot_circle(center, radius, color='g'):                             #Function to plot a circle\n",
    "    circle = plt.Circle(center, radius, color=color, alpha=0.3)\n",
    "    plt.gca().add_artist(circle)\n",
    "    plt.plot(center[0], center[1], 'ko')\n",
    "\n",
    "def get_polygon_input():                                                #Function to get the input for a polygon\n",
    "    points = []\n",
    "    num_points = int(input(\"Enter the number of points in the polygon: \"))\n",
    "    for _ in range(num_points):\n",
    "        x, y = map(float, input(\"Enter x and y coordinates separated by space: \").split())\n",
    "        points.append([x, y])\n",
    "    return points\n",
    "\n",
    "def get_square_input():                                                 #Function to get the input for a square\n",
    "    x1, y1 = map(float, input(\"Enter the x and y coordinates of the lower-left corner: \").split())\n",
    "    side_length = float(input(\"Enter the side length of the square: \"))\n",
    "    x2, y2 = x1 + side_length, y1 + side_length\n",
    "    return [[x1, y1], [x2, y1], [x2, y2], [x1, y2]]\n",
    "\n",
    "def get_circle_input():                                                 #Function to get the input for a circle\n",
    "    x, y = map(float, input(\"Enter the x and y coordinates of the center: \").split())\n",
    "    radius = float(input(\"Enter the radius of the circle: \"))\n",
    "    return [x, y], radius\n"
   ]
  },
  {
   "cell_type": "code",
   "execution_count": 21,
   "metadata": {},
   "outputs": [
    {
     "name": "stdout",
     "output_type": "stream",
     "text": [
      "Invalid input\n"
     ]
    },
    {
     "data": {
      "image/png": "[encoded data removed]",
      "text/plain": [
       "<Figure size 640x480 with 1 Axes>"
      ]
     },
     "metadata": {},
     "output_type": "display_data"
    }
   ],
   "source": [
    "def main():                                                             #Main function\n",
    "    input_value = input(\"1. Two polygons intersection\\n2. Circle and Square intersection\\n3. Circle and Polygon intersection\\n4. Square and Polygon intersection\\n\")\n",
    "    \n",
    "    if input_value.isdigit():\n",
    "        input_value = int(input_value)\n",
    "        if input_value == 1:\n",
    "            polygon1 = get_polygon_input()\n",
    "            polygon2 = get_polygon_input()\n",
    "            plot_polygon(polygon1, 'b')\n",
    "            plot_polygon(polygon2, 'g')\n",
    "            if gjk_intersect_polygon(polygon1, polygon2):\n",
    "                print(\"Polygons intersect\")\n",
    "                plt.title(\"Polygons intersect\")\n",
    "            else:\n",
    "                print(\"Polygons do not intersect\")\n",
    "                plt.title(\"Polygons do not intersect\")\n",
    "        elif input_value == 2:\n",
    "            square = get_square_input()\n",
    "            circle_center, radius = get_circle_input()\n",
    "            plot_square(square, 'b')\n",
    "            plot_circle(circle_center, radius, 'g')\n",
    "            if gjk_intersect_circle(circle_center, radius, square):\n",
    "                print(\"Circle and Square intersect\")\n",
    "                plt.title(\"Circle and Square intersect\")\n",
    "            else:\n",
    "                print(\"Circle and Square do not intersect\")\n",
    "                plt.title(\"Circle and Square do not intersect\")\n",
    "        elif input_value == 3:\n",
    "            polygon = get_polygon_input()\n",
    "            circle_center, radius = get_circle_input()\n",
    "            plot_polygon(polygon, 'b')\n",
    "            plot_circle(circle_center, radius, 'g')\n",
    "            if gjk_intersect_circle(circle_center, radius, polygon):\n",
    "                print(\"Circle and Polygon intersect\")\n",
    "                plt.title(\"Circle and Polygon intersect\")\n",
    "            else:\n",
    "                print(\"Circle and Polygon do not intersect\")\n",
    "                plt.title(\"Circle and Polygon do not intersect\")\n",
    "        elif input_value == 4:\n",
    "            square = get_square_input()\n",
    "            polygon = get_polygon_input()\n",
    "            plot_square(square, 'b')\n",
    "            plot_polygon(polygon, 'g')\n",
    "            if gjk_intersect_polygon(square, polygon):\n",
    "                print(\"Square and Polygon intersect\")\n",
    "                plt.title(\"Square and Polygon intersect\")\n",
    "            else:\n",
    "                print(\"Square and Polygon do not intersect\")\n",
    "                plt.title(\"Square and Polygon do not intersect\")\n",
    "        else:\n",
    "            print(\"Invalid input\")\n",
    "    else:\n",
    "        print(\"Invalid input\")\n",
    "\n",
    "    plt.xlabel('X')\n",
    "    plt.ylabel('Y')\n",
    "    plt.grid(True)\n",
    "    plt.axis('equal')\n",
    "    plt.show()\n",
    "\n",
    "if __name__ == '__main__':\n",
    "    main()\n"
   ]
  },
  {
   "cell_type": "markdown",
   "metadata": {},
   "source": [
    "---------------------------------------------------END-------------------------------------------------------------"
   ]
  }
 ],
 "metadata": {
  "kernelspec": {
   "display_name": "adv_v1",
   "language": "python",
   "name": "python3"
  },
  "language_info": {
   "codemirror_mode": {
    "name": "ipython",
    "version": 3
   },
   "file_extension": ".py",
   "mimetype": "text/x-python",
   "name": "python",
   "nbconvert_exporter": "python",
   "pygments_lexer": "ipython3",
   "version": "3.12.2"
  }
 },
 "nbformat": 4,
 "nbformat_minor": 2
}
